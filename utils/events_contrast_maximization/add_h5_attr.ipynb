{
 "cells": [
  {
   "cell_type": "code",
   "execution_count": 1,
   "metadata": {},
   "outputs": [],
   "source": [
    "import argparse\n",
    "import numpy as np\n",
    "import h5py\n",
    "import os\n",
    "import glob\n"
   ]
  },
  {
   "cell_type": "code",
   "execution_count": 2,
   "metadata": {},
   "outputs": [
    {
     "name": "stderr",
     "output_type": "stream",
     "text": [
      "usage: ipykernel_launcher.py [-h] --path PATH --attr_name ATTR_NAME --attr_val\n",
      "                             ATTR_VAL [--group GROUP] [--dry_run DRY_RUN]\n",
      "ipykernel_launcher.py: error: the following arguments are required: --path, --attr_name, --attr_val\n"
     ]
    },
    {
     "ename": "SystemExit",
     "evalue": "2",
     "output_type": "error",
     "traceback": [
      "An exception has occurred, use %tb to see the full traceback.\n",
      "\u001b[1;31mSystemExit\u001b[0m\u001b[1;31m:\u001b[0m 2\n"
     ]
    },
    {
     "name": "stderr",
     "output_type": "stream",
     "text": [
      "c:\\Users\\Raz\\anaconda3\\envs\\spyder-env\\lib\\site-packages\\IPython\\core\\interactiveshell.py:3449: UserWarning: To exit: use 'exit', 'quit', or Ctrl-D.\n",
      "  warn(\"To exit: use 'exit', 'quit', or Ctrl-D.\", stacklevel=1)\n"
     ]
    }
   ],
   "source": [
    "\n",
    "def endswith(path, extensions):\n",
    "    for ext in extensions:\n",
    "        if path.endswith(ext):\n",
    "            return True\n",
    "    return False\n",
    "\n",
    "def get_filepaths_from_path_or_file(path, extensions=[], datafile_extensions=[\".txt\", \".csv\"]):\n",
    "    files = []\n",
    "    path = path.rstrip(\"/\")\n",
    "    if os.path.isdir(path):\n",
    "        for ext in extensions:\n",
    "            files += sorted(glob.glob(\"{}/*{}\".format(path, ext)))\n",
    "    else:\n",
    "        if endswith(path, extensions):\n",
    "            files.append(path)\n",
    "        elif endswith(path, datafile_extensions):\n",
    "            with open(path, 'r') as f:\n",
    "                #files.append(line) for line in f.readlines\n",
    "                files = [line.strip() for line in f.readlines()]\n",
    "    return files\n",
    "\n",
    "def add_attribute(h5_filepaths, group, attribute_name, attribute_value, dry_run=False):\n",
    "    for h5_filepath in h5_filepaths:\n",
    "        print(\"adding {}/{}[{}]={}\".format(h5_filepath, group, attribute_name, attribute_value))\n",
    "        if dry_run:\n",
    "            continue\n",
    "        h5_file = h5py.File(h5_filepath, 'a')\n",
    "        dset = h5_file[\"{}/\".format(group)]\n",
    "        dset.attrs[attribute_name] = attribute_value\n",
    "        h5_file.close()\n",
    "\n",
    "if __name__ == \"__main__\":\n",
    "    # arguments\n",
    "    parser = argparse.ArgumentParser()\n",
    "    parser._action_groups.pop()\n",
    "    required = parser.add_argument_group('required arguments')\n",
    "    optional = parser.add_argument_group('optional arguments')\n",
    "\n",
    "    required.add_argument(\"--path\", help=\"Can be either 1: path to individual hdf file, \" +\n",
    "        \"2: txt file with list of hdf files, or \" +\n",
    "        \"3: directory (all hdf files in directory will be processed).\", required=True)\n",
    "    required.add_argument(\"--attr_name\", help=\"Name of new attribute\", required=True)\n",
    "    required.add_argument(\"--attr_val\", help=\"Value of new attribute\", required=True)\n",
    "    optional.add_argument(\"--group\", help=\"Group to add attribute to. Subgroups \" +\n",
    "            \"are represented like paths, eg: /group1/subgroup2...\", default=\"\")\n",
    "    optional.add_argument(\"--dry_run\", default=0, type=int,\n",
    "            help=\"If set to 1, will print changes without performing them\")\n",
    "\n",
    "    args = parser.parse_args()\n",
    "    path = args.path\n",
    "    extensions = [\".hdf\", \".h5\"]\n",
    "    files = get_filepaths_from_path_or_file(path, extensions=extensions)\n",
    "    print(files)\n",
    "    dry_run = False if args.dry_run <= 0 else True\n",
    "    add_attribute(files, args.group, args.attr_name, args.attr_val, dry_run=dry_run)\n"
   ]
  },
  {
   "cell_type": "code",
   "execution_count": 4,
   "metadata": {},
   "outputs": [],
   "source": [
    "BASE_DIR = 'D:/siamEvents/real_event_dataset/events/bags'\n",
    "\n",
    "files = {}\n",
    "for f in os.listdir(BASE_DIR):\n",
    "    if os.path.isfile(os.path.join(BASE_DIR, f)):\n",
    "        name = f.split('.')[0].lower()\n",
    "        files[name] = os.path.join(BASE_DIR, f)"
   ]
  },
  {
   "cell_type": "code",
   "execution_count": null,
   "metadata": {},
   "outputs": [],
   "source": [
    "for name in files:\n",
    "    h5_file = h5py.File(files[name], 'a')\n",
    "    dset = h5_file[\"{}/\".format(group)]\n",
    "    dset.attrs[attribute_name] = attribute_value\n",
    "    h5_file.close()"
   ]
  }
 ],
 "metadata": {
  "kernelspec": {
   "display_name": "spyder-env",
   "language": "python",
   "name": "python3"
  },
  "language_info": {
   "codemirror_mode": {
    "name": "ipython",
    "version": 3
   },
   "file_extension": ".py",
   "mimetype": "text/x-python",
   "name": "python",
   "nbconvert_exporter": "python",
   "pygments_lexer": "ipython3",
   "version": "3.8.11"
  },
  "orig_nbformat": 4,
  "vscode": {
   "interpreter": {
    "hash": "6146509d7cfc044a288e4f6b478239ad129dad275ce2f7d00e4bc0188c5a334a"
   }
  }
 },
 "nbformat": 4,
 "nbformat_minor": 2
}
